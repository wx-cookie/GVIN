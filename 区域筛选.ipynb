{
 "cells": [
  {
   "cell_type": "code",
   "execution_count": 44,
   "metadata": {},
   "outputs": [],
   "source": [
    "import pandas as pd\n",
    "import numpy as np\n",
    "import os\n",
    "from concurrent.futures import ProcessPoolExecutor"
   ]
  },
  {
   "cell_type": "code",
   "execution_count": 49,
   "metadata": {},
   "outputs": [],
   "source": [
    "long1 = 116.27409656389517 #左上角经度\n",
    "lat1 = 39.99326520581073 #左上角纬度\n",
    "long2 = 116.37837633462125 #右下角经度\n",
    "lat2 = 39.90061816271193 #右下角纬度"
   ]
  },
  {
   "cell_type": "code",
   "execution_count": 51,
   "metadata": {},
   "outputs": [
    {
     "name": "stdout",
     "output_type": "stream",
     "text": [
      "error\n"
     ]
    }
   ],
   "source": [
    "def getData(name):\n",
    "    name = 20160900 + name + ''\n",
    "    if (not os.path.exists(\"../regionData/\" + name)):\n",
    "        os.mkdir(\"../regionData/\" + name)\n",
    "    for fileName in os.listdir(name):\n",
    "        try:\n",
    "            print (fileName)\n",
    "            data = pd.read_csv(name + fileName)\n",
    "            size = data.shape[0]\n",
    "            #sim车辆唯一ID，time为时间，lat纬度，lgn经度，if_load表示是否载客\n",
    "            res = pd.DataFrame(columns = ['sim', 'time', 'lat', 'lgn', 'if_load'])\n",
    "            tempdata = ['', '', '', '', '']\n",
    "            for i in range(size):\n",
    "                if (data.iloc[i, 5] > long1 and data.iloc[i, 4] < lat1 and data.iloc[i, 5] < long2 and data.iloc[1, 4] > lat2):\n",
    "                    #在所选范围内\n",
    "                    tempdata[0] = data.iloc[i, 1]\n",
    "                    tempdata[1] = data.iloc[i, 2]\n",
    "                    tempdata[2] = data.iloc[i, 4]\n",
    "                    tempdata[3] = data.iloc[i, 5]\n",
    "                    tempdata[4] = data.iloc[i, -1]\n",
    "                    res.loc[res.shape[0]] = tempdata\n",
    "            res.to_csv(\"../regionData/\" + name + '/' + fileName , index=False)\n",
    "        except:\n",
    "            print (fileName + \"  error!!!\")\n",
    "            \n",
    "\n",
    "\n",
    "if __name__ == '__main__':\n",
    "    fnames=range(1,10)\n",
    "    with ProcessPoolExecutor(5) as ex:\n",
    "        for _ in zip(fnames, ex.map(getData, fnames)):\n",
    "            pass"
   ]
  },
  {
   "cell_type": "code",
   "execution_count": 11,
   "metadata": {},
   "outputs": [],
   "source": [
    "#!/usr/bin/python\n",
    "# -*- coding: UTF-8 -*-\n",
    "import pandas as pd\n",
    "import numpy as np\n",
    "import os\n",
    "import logging\n",
    "import traceback\n",
    "from concurrent.futures import ProcessPoolExecutor\n",
    "\n",
    "long1 = 116.27409656389517 #左上角经度\n",
    "lat1 = 39.99326520581073 #左上角纬度\n",
    "long2 = 116.37837633462125 #右下角经度\n",
    "lat2 = 39.90061816271193 #右下角纬度\n",
    "\n",
    "\n",
    "def getData(name):\n",
    "    name = str(20160900 + name)\n",
    "    if (not os.path.exists(\"../regionData/\" + name)):\n",
    "        os.mkdir(\"../regionData/\" + name)\n",
    "    for fileName in os.listdir('../' + name):\n",
    "        try:\n",
    "            print (fileName)\n",
    "            data = pd.read_csv('../' + name + '/' + fileName)\n",
    "            size = data.shape[0]\n",
    "            #sim车辆唯一ID，time为时间，lat纬度，lgn经度，if_load表示是否载客\n",
    "            res = pd.DataFrame(columns = ['sim', 'time', 'lat', 'lgn', 'if_load'])\n",
    "            tempdata = ['', '', '', '', '']\n",
    "            for i in range(size):\n",
    "                if (data.iloc[i, 5] > long1 and data.iloc[i, 4] < lat1 and data.iloc[i, 5] < long2 and data.iloc[1, 4] > lat2):\n",
    "                    #在所选范围内\n",
    "                    tempdata[0] = data.iloc[i, 1]\n",
    "                    tempdata[1] = data.iloc[i, 2]\n",
    "                    tempdata[2] = data.iloc[i, 4]\n",
    "                    tempdata[3] = data.iloc[i, 5]\n",
    "                    tempdata[4] = data.iloc[i, -1]\n",
    "                    res.loc[res.shape[0]] = tempdata\n",
    "            res.to_csv(\"../regionData/\" + name + '/' + fileName , index=False)\n",
    "        except Exception, e:\n",
    "            traceback.print_exc()\n",
    "\n",
    "\n",
    "\n",
    "if __name__ == '__main__':\n",
    "    fnames=range(1,10)\n",
    "    with ProcessPoolExecutor(5) as ex:\n",
    "        for _ in zip(fnames, ex.map(getData, fnames)):\n",
    "            pass"
   ]
  },
  {
   "cell_type": "code",
   "execution_count": null,
   "metadata": {},
   "outputs": [],
   "source": []
  },
  {
   "cell_type": "code",
   "execution_count": null,
   "metadata": {},
   "outputs": [],
   "source": []
  }
 ],
 "metadata": {
  "kernelspec": {
   "display_name": "Python 3",
   "language": "python",
   "name": "python3"
  },
  "language_info": {
   "codemirror_mode": {
    "name": "ipython",
    "version": 3
   },
   "file_extension": ".py",
   "mimetype": "text/x-python",
   "name": "python",
   "nbconvert_exporter": "python",
   "pygments_lexer": "ipython3",
   "version": "3.7.2"
  }
 },
 "nbformat": 4,
 "nbformat_minor": 2
}
